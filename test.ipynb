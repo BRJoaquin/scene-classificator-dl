{
 "cells": [
  {
   "cell_type": "markdown",
   "metadata": {},
   "source": [
    "# Deep Learning for Scene Classification: A Personal Project\n",
    "\n",
    "## Introduction\n",
    "\n",
    "Welcome to this Deep Learning project focused on scene classification. The primary objective is to build and evaluate Deep Learning models that can accurately classify images into one of the six predefined categories: Buildings, Forests, Glaciers, Mountains, Oceans, and Streets.\n",
    "\n",
    "In this Jupyter Notebook, you'll find:\n",
    "\n",
    "- An exploration of the dataset to better understand its structure and contents.\n",
    "- Pre-processing steps, including image transforms and augmentations, tailored specifically for this dataset.\n",
    "- Implementation of Deep Learning models from scratch to solve the classification problem.\n",
    "- Evaluation of models using metrics like Accuracy, Precision, Recall, and F1 Score.\n",
    "- Visualizations and logs that track model performance during training and validation phases.\n",
    "\n",
    "This project is implemented locally, and Conda is used for package management, ensuring that all dependencies are correctly set up for anyone who wishes to reproduce this work.\n",
    "\n",
    "Let's get started!\n"
   ]
  },
  {
   "cell_type": "code",
   "execution_count": 1,
   "metadata": {},
   "outputs": [
    {
     "name": "stdout",
     "output_type": "stream",
     "text": [
      "Using device: cuda\n"
     ]
    }
   ],
   "source": [
    "import torch\n",
    "\n",
    "# Check if CUDA is available\n",
    "device = torch.device(\"cuda\" if torch.cuda.is_available() else \"cpu\")\n",
    "\n",
    "# Print the device being used\n",
    "print(f'Using device: {device}')\n"
   ]
  }
 ],
 "metadata": {
  "kernelspec": {
   "display_name": "scene_classification",
   "language": "python",
   "name": "python3"
  },
  "language_info": {
   "codemirror_mode": {
    "name": "ipython",
    "version": 3
   },
   "file_extension": ".py",
   "mimetype": "text/x-python",
   "name": "python",
   "nbconvert_exporter": "python",
   "pygments_lexer": "ipython3",
   "version": "3.11.5"
  },
  "orig_nbformat": 4
 },
 "nbformat": 4,
 "nbformat_minor": 2
}
